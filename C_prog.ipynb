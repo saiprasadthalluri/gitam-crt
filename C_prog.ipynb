{
  "nbformat": 4,
  "nbformat_minor": 0,
  "metadata": {
    "colab": {
      "name": "C prog.ipynb",
      "provenance": [],
      "collapsed_sections": [],
      "include_colab_link": true
    },
    "kernelspec": {
      "name": "python3",
      "display_name": "Python 3"
    }
  },
  "cells": [
    {
      "cell_type": "markdown",
      "metadata": {
        "id": "view-in-github",
        "colab_type": "text"
      },
      "source": [
        "<a href=\"https://colab.research.google.com/github/saiprasadthalluri/gitam-crt/blob/master/C_prog.ipynb\" target=\"_parent\"><img src=\"https://colab.research.google.com/assets/colab-badge.svg\" alt=\"Open In Colab\"/></a>"
      ]
    },
    {
      "cell_type": "markdown",
      "metadata": {
        "id": "BTMGJpXPhTyu",
        "colab_type": "text"
      },
      "source": [
        "### C prog\n",
        "1. Read the input as Character and print as \"Upper case\"\n",
        ", \" lower case\" , \"digit\"\n",
        "\n",
        "Test Cases:\n",
        "\n",
        "-------------\n",
        "    'a'  --  Lower Case\n",
        "    'Z'  --  upper case\n",
        "    '8'  --  digit"
      ]
    },
    {
      "cell_type": "markdown",
      "metadata": {
        "id": "6rUZegReRZia",
        "colab_type": "text"
      },
      "source": [
        ""
      ]
    },
    {
      "cell_type": "code",
      "metadata": {
        "id": "_0-hq1oNRVYT",
        "colab_type": "code",
        "colab": {}
      },
      "source": [
        ""
      ],
      "execution_count": 0,
      "outputs": []
    },
    {
      "cell_type": "markdown",
      "metadata": {
        "id": "8kk-x8C7khEw",
        "colab_type": "text"
      },
      "source": [
        "### solution: \n",
        " \n",
        "\n",
        "#include<stdio.h>\n",
        "int main()\n",
        "{\n",
        "\tchar x;\n",
        "\tscanf(\"%c\",&x);\n",
        "if(x>=65 && x<=90)\n",
        "{\n",
        "printf(\"upper case\");\n",
        "}\n",
        "else if(x>=97 && x<=122)\n",
        "{\n",
        "printf(\"lower case\");\n",
        "}\n",
        "else if(x>=48 && x<=57)\n",
        "{\n",
        "printf(\"digit\");\n",
        "}\n",
        "else\n",
        "{\n",
        "printf(\"invalid input\");\n",
        "}\n",
        "return 0;\n",
        "}  "
      ]
    },
    {
      "cell_type": "markdown",
      "metadata": {
        "id": "ZiC-42ZzkvBy",
        "colab_type": "text"
      },
      "source": [
        "2. read the input as character and print the output as vowel or consonant\n",
        "\n",
        "Test cases:\n",
        "\n",
        "------------\n",
        "\n",
        "'a' -- vowel\n",
        "'b' -- consonant\n",
        "'i' -- vowel"
      ]
    },
    {
      "cell_type": "markdown",
      "metadata": {
        "id": "6HdPjKx1p7C-",
        "colab_type": "text"
      },
      "source": [
        "#include<stdio.h>\n",
        "int main()\n",
        "{\n",
        "\tchar x;\n",
        "\tscanf(\"%c\",&x);\n",
        "if(x=='a' || x=='A' || x='e' || x='E' || x='i' || x='I' || x='o' || x='O' || x='u' || x='U')\n",
        "printf(\"vowel\");\n",
        "else\n",
        "printf(\"consonant\");\n",
        "return 0;\n",
        "}  "
      ]
    },
    {
      "cell_type": "markdown",
      "metadata": {
        "id": "45aoGYhJlKNV",
        "colab_type": "text"
      },
      "source": [
        "3. read an input number between 1 to 7 and print output as \"day of the week\"\n",
        "use switch statement"
      ]
    },
    {
      "cell_type": "markdown",
      "metadata": {
        "id": "qXNL0c8bpf9T",
        "colab_type": "text"
      },
      "source": [
        "#include<stdio.h>\n",
        "int main()\n",
        "{\n",
        "\tint x;\n",
        "\tscanf(\"%d\",&x);\n",
        "\tswitch(x)\n",
        "\t{\n",
        "\t\tcase 1:printf(\"sunday\");\n",
        "\t\tbreak;\n",
        "\t\tcase 2:printf(\"monday\");\n",
        "\t\tbreak;\n",
        "\t\tcase 3:printf(\"tuesday\");\n",
        "\t\tbreak;\n",
        "\t\tcase 4:printf(\"wednesday\");\n",
        "\t    break;\n",
        "\t    case 5:printf(\"thursday\");\n",
        "\t    break;\n",
        "\t    case 6:printf(\"friday\");\n",
        "\t    break;\n",
        "\t    case 7:printf(\"saturday\");\n",
        "\t    break;\n",
        "\t    default:printf(\"invalid input\");\n",
        "\t}\n",
        "return 0;\n",
        "}  "
      ]
    },
    {
      "cell_type": "markdown",
      "metadata": {
        "id": "LY5aSavKprSs",
        "colab_type": "text"
      },
      "source": [
        "question 5 printing the product\n",
        "\n",
        "\n",
        "\n",
        "#include<stdio.h>\n",
        "int main()\n",
        "{\n",
        "int a,b,c,res=0;\n",
        "scanf(\"%d\",&a);\n",
        "scanf(\"%d\",&b);\n",
        "scanf(\"%d\",&c);\n",
        "if(a>b && a>c)\n",
        "{\n",
        "printf(\"%d is greatest\\n\",a);\n",
        "res = b*c;\n",
        "printf(\"result=%d\",res);\n",
        "}\n",
        "else if(b>a && b>c)\n",
        "{\n",
        "printf(\"%d is greatest\\n\",b);\n",
        "res=a*c;\n",
        "printf(\"result=%d\",res);\n",
        "}\n",
        "else\n",
        "{\n",
        "printf(\"%d is greatest\\n\",c);\n",
        "res=a*b;\n",
        "printf(\"result=%d\",res);\n",
        "}\n",
        "return 0;\n",
        "}"
      ]
    },
    {
      "cell_type": "markdown",
      "metadata": {
        "id": "P00vTUXUvCbq",
        "colab_type": "text"
      },
      "source": [
        "# LOOPS"
      ]
    },
    {
      "cell_type": "markdown",
      "metadata": {
        "id": "nPWAyjvEvFWa",
        "colab_type": "text"
      },
      "source": [
        "Q. read the number as input and print the output as large digit of the given number\n",
        "\n",
        "\n",
        "Test Cases:-\n",
        "\n",
        "--------------\n",
        "\n",
        "89261 -- 9  \n",
        "15762 -- 7     \n",
        "\n",
        "\n",
        "\n",
        "#include<stdio.h>\n",
        "int main()\n",
        "{\n",
        "int n,i,large=0;\n",
        "scanf(\"%d\",&n);\n",
        "while(n!=0)\n",
        "{\n",
        "\ti=n%10;\n",
        "\tif(i>large)\n",
        "\tlarge=i;\n",
        "\tn=n/10;\n",
        "}\n",
        "printf(\"largest digit is %d\",large);\n",
        "return 0;\n",
        "}"
      ]
    },
    {
      "cell_type": "markdown",
      "metadata": {
        "id": "VvjAQ0Q-XDMK",
        "colab_type": "text"
      },
      "source": [
        "largest of last three digits\n",
        "\n",
        "\n",
        "#include<stdio.h>\n",
        "int main()\n",
        "{\n",
        "int n,i,j,large=0;\n",
        "scanf(\"%d\",&n);\n",
        "for(j=0;j<3;j++)  ////  cnt=0;      while(cnt!=3){cnt++}\n",
        "{\n",
        "\ti=n%10;\n",
        "\tif(i>large)\n",
        "\tlarge=i;\n",
        "\tn=n/10;\n",
        "}\n",
        "printf(\"largest digit is %d\",large);\n",
        "return 0;\n"
      ]
    },
    {
      "cell_type": "markdown",
      "metadata": {
        "id": "2zZjYpiuYl-L",
        "colab_type": "text"
      },
      "source": [
        "Q. read the number as input and print the output as follows\n",
        "\n",
        "Test Cases:-\n",
        "\n",
        "________________\n",
        "89261 -- <1,9>      \n",
        "97268 -- <2,9>\n",
        "\n",
        "\n",
        "#include<stdio.h>\n",
        "int main()\n",
        "{\n",
        "int n,i,large=0,small=0;\n",
        "scanf(\"%d\",&n);\n",
        "while(n!=0)\n",
        "{\n",
        "\n",
        "\ti=n%10;\n",
        "\tif(i>large)\n",
        "\tlarge=i;\n",
        "\telse if(i<=small)\n",
        "\tsmall=i;\n",
        "\tn=n/10;\n",
        "}\n",
        "printf(\"<%d,%d>\",small,large);\n",
        "return 0;\n",
        "}\n"
      ]
    },
    {
      "cell_type": "markdown",
      "metadata": {
        "id": "dLaQor2hcZfe",
        "colab_type": "text"
      },
      "source": [
        "read input as a number and print output as digits in numbers\n",
        "\n",
        "\n",
        "\n",
        "\n",
        "#include<stdio.h>\n",
        "int main()\n",
        "{\n",
        "int n,i;\n",
        "scanf(\"%d\",&n);\n",
        "while(n!=0)\n",
        "{\n",
        "\ti=n%10;\n",
        "\tswitch(i)\n",
        "\t{\n",
        "\t\tcase 0:printf(\"zero\");\n",
        "\t\tbreak;\n",
        "\t\tcase 1:printf(\"one\");\n",
        "\t\tbreak;\n",
        "\t\tcase 2:printf(\"two\");\n",
        "\t\t\tbreak;\n",
        "\t\tcase 3:printf(\"three\");\n",
        "\t\tbreak;\n",
        "\t    case 4:printf(\"four\");\n",
        "\t\tbreak;\n",
        "\t\tcase 5:printf(\"five\");\n",
        "\t\tbreak;\n",
        "\t\tcase 6:printf(\"six\");\n",
        "\t\tbreak;\n",
        "\t\tcase 7:printf(\"seven\");\n",
        "\t\tbreak;\n",
        "\t\tcase 8:printf(\"eight\");\n",
        "\t\tbreak;\n",
        "\t\tcase 9:printf(\"nine\");\n",
        "\t\tbreak;\n",
        "\t}\n",
        "\t\n",
        "\tn=n/10;\n",
        "}\n",
        "return 0;\n"
      ]
    },
    {
      "cell_type": "markdown",
      "metadata": {
        "id": "gpzgjm8FfXU8",
        "colab_type": "text"
      },
      "source": [
        "read the input as a number and print output as sum of even digits\n",
        "\n",
        "\n",
        "\n",
        "\n",
        "#include<stdio.h>\n",
        "int main()\n",
        "{\n",
        "int n,i,sum=0;\n",
        "scanf(\"%d\",&n);\n",
        "while(n!=0)\n",
        "{\n",
        "\ti=n%10;\n",
        "\tif(i%2==0)\n",
        "\tsum=sum+i;\n",
        "\tn=n/10;\n",
        "}\n",
        "printf(\"sum is %d\",sum);\n",
        "return 0;\n",
        "}"
      ]
    },
    {
      "cell_type": "markdown",
      "metadata": {
        "id": "QLu4k44phAPq",
        "colab_type": "text"
      },
      "source": [
        "read a number as input and print the factors/divisors\n",
        "\n",
        "\n",
        "\n",
        "#include<stdio.h>\n",
        "int main()\n",
        "{\n",
        "int n,i=1;\n",
        "scanf(\"%d\",&n);\n",
        "while(i<=n)\n",
        "{\n",
        "\tif(n%i==0)\n",
        "\tprintf(\"%d \",i);\n",
        "\ti=i+1;\n",
        "}\n",
        "return 0;\n",
        "}"
      ]
    },
    {
      "cell_type": "markdown",
      "metadata": {
        "id": "q8Feo7Ngj5RF",
        "colab_type": "text"
      },
      "source": [
        "read a number as input and print the sum of values associated with the digits\n",
        "\n",
        "\n",
        "Test Cases\n",
        "______________\n",
        "\n",
        "\n",
        "\n",
        "\n",
        "#include<stdio.h>\n",
        "int main()\n",
        "{\n",
        "int n,i,val=0;\n",
        "scanf(\"%d\",&n);\n",
        "while(n!=0)\n",
        "{\n",
        "i=n%10;\n",
        "if(i==0 || i==4 || i==6 || i==9)\n",
        "val = val+1;\n",
        "else if(i==8)\n",
        "val=val+2;\n",
        "n=n/10;\n",
        "}\n",
        "printf(\"%d\",val);\n",
        "return 0;\n",
        "}"
      ]
    },
    {
      "cell_type": "markdown",
      "metadata": {
        "id": "d3170vm-pdHF",
        "colab_type": "text"
      },
      "source": [
        "Q. read the input as number and print output as  yes or no\n",
        "print yes if the input number is palindrome\n",
        "\n",
        "\n",
        "\n",
        "\n",
        "\n",
        "#include<stdio.h>\n",
        "int main()\n",
        "{\n",
        "\tint r,rev=0, x,temp;\n",
        "\tscanf(\"%d\",&x);\n",
        "\ttemp=x;\n",
        "\twhile(x!=0)\n",
        "\t{\n",
        "\t\tr=x%10;\n",
        "\t\trev=rev*10+r;\n",
        "\t\tx=x/10;\n",
        "\t}\n",
        "\tif(rev==temp)\n",
        "\tprintf(\"yes\");\n",
        "\telse\n",
        "\tprintf(\"no\");\n",
        "\treturn 0;\n",
        "}"
      ]
    },
    {
      "cell_type": "markdown",
      "metadata": {
        "id": "7HNzj02XuPPr",
        "colab_type": "text"
      },
      "source": [
        "Q. reverse number prime or not\n",
        "\n",
        "\n",
        "\n",
        "#include<stdio.h>\n",
        "int main()\n",
        "{\n",
        "\tint r,rev=0,i=1, x,temp,cnt=0;\n",
        "\tscanf(\"%d\",&x);\n",
        "\ttemp=x;\n",
        "\twhile(x!=0)\n",
        "\t{\n",
        "\t\tr=x%10;\n",
        "\t\trev=rev*10+r;\n",
        "\t\tx=x/10;\n",
        "\t}\n",
        "\tprintf(\"rev %d\\n\",rev);\n",
        "\twhile(i<=temp)\n",
        "\t{\n",
        "\tif(rev%i==0)\n",
        "    cnt=cnt+1;\n",
        "    i=i+1;\n",
        "}\n",
        "if(cnt==2)\n",
        "printf(\"prime\");\n",
        "else\n",
        "printf(\"not prime\");\n",
        "return 0;\n",
        "}"
      ]
    },
    {
      "cell_type": "markdown",
      "metadata": {
        "id": "xP3RXV9HuXmC",
        "colab_type": "text"
      },
      "source": [
        "even rev palindrome between limits\n",
        "\n",
        "\n",
        "\n",
        "#include<stdio.h>\n",
        "int palindrone(int x);\n",
        "\tint palindrome(x)\n",
        "\t{\n",
        "\tint temp=x,r,rev=0;\t\n",
        "\twhile(x!=0)\n",
        "\t{\n",
        "\t\tr=x%10;\n",
        "\t\trev=rev*10+r;\n",
        "\t\tx=x/10;\n",
        "\t}\n",
        "\tif(rev==temp)\n",
        "\treturn 1;\n",
        "\telse\n",
        "\treturn 0;\n",
        "}\n",
        "int main()\n",
        "{\n",
        "\tint x,cnt=0,a,y,i;\n",
        "\tscanf(\"%d\",&x);\n",
        "\tscanf(\"%d\",&y);\n",
        "\tfor(i=x+1;i<y;i++) \n",
        "\t{\n",
        "\ta=palindrome(i);\n",
        "\tif(a==1)\n",
        "\t{\n",
        "\tif(i%2==0)\n",
        "\t{\n",
        "\tcnt = cnt+1;\n",
        "\tprintf(\"%d,\",i);\n",
        "\t}\n",
        "}\n",
        "}\n",
        "printf(\"\\ncount= %d\",cnt);\n",
        "return 0;\n",
        "}"
      ]
    },
    {
      "cell_type": "markdown",
      "metadata": {
        "id": "DiSVk7qj7WRR",
        "colab_type": "text"
      },
      "source": [
        "sum of factorials of digits equals to number\n",
        "\n",
        "\n",
        "\n",
        "\n",
        "#include<stdio.h>\n",
        "int fact(int x);\n",
        "int main()\n",
        "{\n",
        "\tint n,i,sum=0,a;\n",
        "\tscanf(\"%d\",&n);\n",
        "\tint temp=n;\n",
        "\twhile(n!=0)\n",
        "\t{\n",
        "\t\ti=n%10;\n",
        "\t\ta=fact(i);\n",
        "\t\tsum=sum+a;\n",
        "\t\tn=n/10;\n",
        "\t}\n",
        "\tif(sum==temp)\n",
        "\tprintf(\"yes\");\n",
        "\telse\n",
        "\tprintf(\"no\");\n",
        "\treturn 0;\n",
        "}\n",
        "int fact(int x)\n",
        "{\n",
        "int i,p=1;\n",
        "for(i=1;i<=x;i++)\n",
        "{\n",
        "p=p*i;\n",
        "}\n",
        "return p;\n",
        "}"
      ]
    },
    {
      "cell_type": "markdown",
      "metadata": {
        "id": "Cpi3oTc6jYr9",
        "colab_type": "text"
      },
      "source": [
        "nth palindrome\n",
        "\n",
        "\n",
        "\n",
        "\n",
        "#include<stdio.h>\n",
        "int palindrome(int x);\n",
        "\tint palindrome(x)\n",
        "\t{\n",
        "\tint temp=x,r,rev=0;\t\n",
        "\twhile(x!=0)\n",
        "\t{\n",
        "\t\tr=x%10;\n",
        "\t\trev=rev*10+r;\n",
        "\t\tx=x/10;\n",
        "\t}\n",
        "\tif(rev==temp)\n",
        "\treturn 1;\n",
        "\telse\n",
        "\treturn 0;\n",
        "}\n",
        "int main()\n",
        "{\n",
        "\tint x,cnt=0,a,y,i,n;\n",
        "\tscanf(\"%d\",&x);\n",
        "\tscanf(\"%d\",&y);\n",
        "\tscanf(\"%d\",&n);\n",
        "\tfor(i=x+1;i<y;i++) \n",
        "\t{\n",
        "\ta=palindrome(i);\n",
        "\tif(a==1)\n",
        "\t{\n",
        "\tif(i%2==0)\n",
        "\t{\n",
        "\tcnt = cnt+1;\n",
        "\tif(cnt==n)\n",
        "\t{\n",
        "\tprintf(\"%d,\",i);\n",
        "\tbreak;\n",
        "\t}\n",
        "}\n",
        "}\n",
        "}\n",
        "printf(\"\\ncount= %d\",cnt);\n",
        "return 0;\n",
        "}"
      ]
    },
    {
      "cell_type": "markdown",
      "metadata": {
        "id": "iOUgTDi9mlF0",
        "colab_type": "text"
      },
      "source": [
        "sum of power of no of digits of each digit\n",
        "\n",
        "\n",
        "#include<stdio.h>\n",
        "#include<math.h>\n",
        "int digitcnt(int n);\n",
        "int main()\n",
        "{\n",
        "int n,i,j,count,sum=0;\n",
        "scanf(\"%d\",&n);\n",
        "count=digitcnt(n);\n",
        "while(n!=0)\n",
        "{\n",
        "\ti=n%10;\n",
        "\tsum=sum+pow(i,count);\n",
        "\tn=n/10;\n",
        "}\n",
        "printf(\"%d\",sum);\n",
        "return 0;\n",
        "}\n",
        "int digitcnt(int n)\n",
        "{\n",
        "int i,cnt=0;\n",
        "while(n!=0)\n",
        "{\n",
        "i=n%10;\n",
        "cnt++;\n",
        "n=n/10;\n",
        "}\t\n",
        "return cnt;\n",
        "}"
      ]
    },
    {
      "cell_type": "markdown",
      "metadata": {
        "id": "okJO-OFuvCja",
        "colab_type": "text"
      },
      "source": [
        "array\n",
        "\n",
        "\n",
        "\n",
        "#include<stdio.h>\n",
        "int main()\n",
        "{\n",
        "int n,i,a[100];\n",
        "scanf(\"%d\",&n);\n",
        "printf(\"\\n\");\n",
        "for(i=0;i<n;i++)\n",
        "scanf(\"%d\",&a[i]);\n",
        "printf(\"\\n\");\n",
        "for(i=0;i<n;i++)\n",
        "{\n",
        "if(a[i]%2==0)\n",
        "printf(\"1\");\n",
        "else\n",
        "printf(\"0\"); \n",
        "}\n",
        "return 0;\n",
        "}"
      ]
    },
    {
      "cell_type": "markdown",
      "metadata": {
        "id": "L1PY6_SG2k6j",
        "colab_type": "text"
      },
      "source": [
        "array max and min\n",
        "\n",
        "\n",
        "\n",
        "\n",
        "#include<stdio.h>\n",
        "int main()\n",
        "{\n",
        "int n,i,a[100],small,large;\n",
        "scanf(\"%d\",&n);\n",
        "printf(\"\\n\");\n",
        "for(i=0;i<n;i++)\n",
        "scanf(\"%d\",&a[i]);\n",
        "large=small=a[0];\n",
        "for(i=0;i<n;i++)\n",
        "{\n",
        "if(large<a[i])\n",
        "{\n",
        "large=a[i];\n",
        "}\n",
        "if(small>a[i])\n",
        "{\n",
        "small=a[i];\n",
        "}\n",
        "}\n",
        "printf(\"large: %d\\n\",large);\n",
        "printf(\"small: %d\",small); \n",
        "return 0;\n",
        "}"
      ]
    },
    {
      "cell_type": "markdown",
      "metadata": {
        "id": "Z1aqU5-F7e_I",
        "colab_type": "text"
      },
      "source": [
        "printing digits of a number in order\n",
        "\n",
        "\n",
        "\n",
        "\n",
        "#include<stdio.h>\n",
        "int main()\n",
        "{\n",
        "int n,i,a[100],x=0;\n",
        "scanf(\"%d\",&n);\n",
        "while(n!=0)\n",
        "{\n",
        "\ta[x]=n%10;\n",
        "\tn=n/10;\n",
        "\tx++;\n",
        "}\n",
        "for(i=x-1;i>=0;i--)\n",
        "printf(\"%d \",a[i]);\n",
        "return 0;\n",
        "}"
      ]
    },
    {
      "cell_type": "markdown",
      "metadata": {
        "id": "2NwqW8KG-foZ",
        "colab_type": "text"
      },
      "source": [
        ""
      ]
    }
  ]
}